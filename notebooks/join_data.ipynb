{
 "cells": [
  {
   "cell_type": "code",
   "execution_count": null,
   "id": "029d15c4",
   "metadata": {},
   "outputs": [],
   "source": [
    "import polars as pl\n",
    "import pathlib\n",
    "from datetime import date, timedelta\n",
    "from typing import NamedTuple\n",
    "\n",
    "RAW_DATA = pathlib.Path(\"../data/raw\")\n",
    "CPI = RAW_DATA / \"cpi_2006-2025.csv\"\n",
    "FED_FUNDS = RAW_DATA / \"fed_funds_rate_2006-2025.csv\"\n",
    "GDP = RAW_DATA / \"gdp_2006-2025.csv\"\n",
    "PRESIDENTS = RAW_DATA / \"presidents_and_chairmen.csv\"\n",
    "UNEMPLOYMENT = RAW_DATA / \"unemployment_2006-2025.csv\"\n",
    "\n",
    "NEWS_DATA = \"../data/filtered/07_sampled_news.parquet\"\n",
    "COMMUNICATIONS = \"../data/processed/communications_stemmed.parquet\""
   ]
  },
  {
   "cell_type": "code",
   "execution_count": null,
   "id": "3c3b4873",
   "metadata": {},
   "outputs": [],
   "source": [
    "class TimeSeries(NamedTuple):\n",
    "    name: str\n",
    "    filepath: pathlib.Path\n",
    "    date_col: str\n",
    "    data_col: str"
   ]
  },
  {
   "cell_type": "code",
   "execution_count": null,
   "id": "7bfecd48",
   "metadata": {},
   "outputs": [],
   "source": [
    "def read_timeseries(ts: TimeSeries) -> pl.DataFrame:\n",
    "    df = pl.read_csv(ts.filepath, schema={ts.date_col: pl.Date, ts.data_col: pl.Float64})\n",
    "    df = df.rename({ts.date_col: \"date\", ts.data_col: ts.name})\n",
    "    return df"
   ]
  },
  {
   "cell_type": "code",
   "execution_count": null,
   "id": "20c70c12",
   "metadata": {},
   "outputs": [],
   "source": [
    "timeseries = [\n",
    "    TimeSeries(\"cpi\", CPI, \"observation_date\", \"CPIAUCSL_PC1\"),\n",
    "    TimeSeries(\"funds_rate\", FED_FUNDS, \"observation_date\", \"FEDFUNDS\"),\n",
    "    TimeSeries(\"gdp\", GDP, \"observation_date\", \"GDP_PC1\"),\n",
    "    TimeSeries(\"unemployment\", UNEMPLOYMENT, \"observation_date\", \"UNRATE\"),\n",
    "]"
   ]
  },
  {
   "cell_type": "code",
   "execution_count": null,
   "id": "e4a15dad",
   "metadata": {},
   "outputs": [],
   "source": [
    "df = pl.read_parquet(NEWS_DATA)\n",
    "df"
   ]
  },
  {
   "cell_type": "code",
   "execution_count": null,
   "id": "98e62f14",
   "metadata": {},
   "outputs": [],
   "source": [
    "cpi_df = pl.read_csv(\n",
    "    CPI,\n",
    "    schema={\n",
    "        \"observation_date\": pl.Date,\n",
    "        \"CPIAUCSL_PC1\": pl.Float64\n",
    "    }\n",
    "    ).rename({\n",
    "    \"observation_date\": \"date\",\n",
    "    \"CPIAUCSL_PC1\": \"cpi\"\n",
    "})\n",
    "cpi_df = cpi_df.with_columns(\n",
    "    pl.col(\"date\").shift(-1).alias(\"daily_month\")\n",
    ").drop_nulls()\n",
    "cpi_df"
   ]
  },
  {
   "cell_type": "code",
   "execution_count": null,
   "id": "41cfb42a",
   "metadata": {},
   "outputs": [],
   "source": [
    "def disaggregate_timeseries(df: pl.DataFrame) -> pl.DataFrame:\n",
    "    df = df.with_columns(\n",
    "        pl.col(\"date\").shift(-1).alias(\"daily_month\")\n",
    "    ).drop_nulls()\n",
    "\n",
    "    cols = df.columns\n",
    "    date_col = cols[0]\n",
    "    var_col = cols[1]\n",
    "\n",
    "    daily_data = {\n",
    "        date_col: [],\n",
    "        var_col: []\n",
    "    }\n",
    "    for _, change, month_dt in df.iter_rows():\n",
    "        # Get all days in this month\n",
    "        start = month_dt\n",
    "        if month_dt.month == 12:\n",
    "            end = date(month_dt.year + 1, 1, 1)\n",
    "        else:\n",
    "            end = date(month_dt.year, month_dt.month + 1, 1)\n",
    "        delta = (end - start).days\n",
    "        days = [start + timedelta(days=i) for i in range(delta)]\n",
    "        for day in days:\n",
    "            daily_data[date_col].append(day)\n",
    "            daily_data[var_col].append(change)\n",
    "    return pl.DataFrame(daily_data)"
   ]
  },
  {
   "cell_type": "code",
   "execution_count": null,
   "id": "3a70ea73",
   "metadata": {},
   "outputs": [],
   "source": [
    "disaggregate_timeseries(cpi_df)"
   ]
  },
  {
   "cell_type": "code",
   "execution_count": null,
   "id": "f4b6faa5",
   "metadata": {},
   "outputs": [],
   "source": [
    "unemployment_df = pl.read_csv(\n",
    "    UNEMPLOYMENT,\n",
    "    schema={\"observation_date\": pl.Date, \"UNRATE\": pl.Float64}\n",
    ").rename({\"observation_date\": \"date\", \"UNRATE\": \"unemployment\"})\n",
    "disaggregate_timeseries(unemployment_df)"
   ]
  },
  {
   "cell_type": "code",
   "execution_count": null,
   "id": "6d9c64b5",
   "metadata": {},
   "outputs": [],
   "source": [
    "gdp_df = pl.read_csv(\n",
    "    GDP, schema={\"observation_date\": pl.Date, \"GDP_PC1\": pl.Float64}\n",
    ").rename({\"observation_date\": \"date\", \"GDP_PC1\": \"gdp\"})\n",
    "gdp_df = gdp_df.with_columns(\n",
    "    pl.col(\"date\").dt.offset_by(\"-3mo\").alias(\"quarter_start\")\n",
    ")\n",
    "gdp_df"
   ]
  },
  {
   "cell_type": "code",
   "execution_count": null,
   "id": "11c5aee8",
   "metadata": {},
   "outputs": [],
   "source": [
    "daily_data = {\"date\": [], \"gdp\": []}\n",
    "for row in gdp_df.iter_rows(named=True):\n",
    "    start, end, gdp_value = row[\"quarter_start\"], row[\"date\"], row[\"gdp\"]\n",
    "    delta = (end - start).days + 1  # inclusive of last day\n",
    "    for i in range(delta):\n",
    "        day = start + timedelta(days=i)\n",
    "        daily_data[\"date\"].append(day)\n",
    "        daily_data[\"gdp\"].append(gdp_value)\n",
    "\n",
    "# Create daily DataFrame\n",
    "daily_gdp = pl.DataFrame(daily_data)\n",
    "daily_gdp"
   ]
  },
  {
   "cell_type": "code",
   "execution_count": null,
   "id": "262a1aa0",
   "metadata": {},
   "outputs": [],
   "source": [
    "def disaggregate_gdp(df: pl.DataFrame) -> pl.DataFrame:\n",
    "    daily_data = {\"date\": [], \"gdp\": []}\n",
    "    for row in gdp_df.iter_rows(named=True):\n",
    "        start, end, gdp_value = row[\"quarter_start\"], row[\"date\"], row[\"gdp\"]\n",
    "        delta = (end - start).days + 1  # inclusive of last day\n",
    "        for i in range(delta):\n",
    "            day = start + timedelta(days=i)\n",
    "            daily_data[\"date\"].append(day)\n",
    "            daily_data[\"gdp\"].append(gdp_value)\n",
    "\n",
    "    return pl.DataFrame(daily_data)\n",
    "disaggregate_gdp(gdp_df)"
   ]
  },
  {
   "cell_type": "code",
   "execution_count": null,
   "id": "05a53c38",
   "metadata": {},
   "outputs": [],
   "source": [
    "dfs = [read_timeseries(ts) for ts in timeseries]\n",
    "daily_ts_dfs = []\n",
    "for ts, df in zip(timeseries, dfs):\n",
    "    if ts.name != \"gdp\":\n",
    "        daily_df = disaggregate_timeseries(df)\n",
    "    else:\n",
    "        daily_df = disaggregate_gdp(df)\n",
    "    daily_ts_dfs.append(daily_df)"
   ]
  },
  {
   "cell_type": "code",
   "execution_count": null,
   "id": "90bba361",
   "metadata": {},
   "outputs": [],
   "source": [
    "from functools import reduce\n",
    "\n",
    "econ_data_df: pl.DataFrame = reduce(lambda left, right: left.join(right, on=\"date\", how=\"left\"), daily_ts_dfs)\n",
    "econ_data_df.write_parquet(\"../data/processed/econ_data.parquet\")\n",
    "econ_data_df"
   ]
  },
  {
   "cell_type": "code",
   "execution_count": null,
   "id": "2641dc22",
   "metadata": {},
   "outputs": [],
   "source": [
    "df = pl.read_parquet(NEWS_DATA)\n",
    "df = df.with_columns(pl.col(\"date\").dt.date())\n",
    "df = df.join(econ_data_df, on=\"date\", how=\"left\")\n",
    "df"
   ]
  },
  {
   "cell_type": "code",
   "execution_count": null,
   "id": "61cea0e0",
   "metadata": {},
   "outputs": [],
   "source": [
    "pres_df = pl.read_csv(PRESIDENTS, schema={\"date\": pl.Date, \"president\": pl.String, \"party\": pl.String, \"fed_chair\": pl.String})\n",
    "pres_df"
   ]
  },
  {
   "cell_type": "code",
   "execution_count": null,
   "id": "56f2aacc",
   "metadata": {},
   "outputs": [],
   "source": [
    "df = df.join(pres_df, on=\"date\", how=\"left\")\n",
    "df"
   ]
  },
  {
   "cell_type": "code",
   "execution_count": null,
   "id": "d3d02bc1",
   "metadata": {},
   "outputs": [],
   "source": [
    "df = df.select([\"date\", \"text\", \"cpi\", \"funds_rate\", \"gdp\", \"unemployment\", \"president\", \"party\", \"fed_chair\"])\n",
    "df"
   ]
  },
  {
   "cell_type": "code",
   "execution_count": null,
   "id": "d48e3d35",
   "metadata": {},
   "outputs": [],
   "source": [
    "df.write_parquet(\"../data/processed/news_final.parquet\")"
   ]
  },
  {
   "cell_type": "code",
   "execution_count": null,
   "id": "f038d012",
   "metadata": {},
   "outputs": [],
   "source": [
    "communications_df = pl.read_parquet(COMMUNICATIONS).with_columns([\n",
    "    pl.col(\"Date\").str.strptime(pl.Date, \"%Y-%m-%d\"),\n",
    "    pl.col(\"Release Date\").str.strptime(pl.Date, \"%Y-%m-%d\"),\n",
    "])\n",
    "communications_df = communications_df.select([\"Date\", \"text\"])\n",
    "communications_df = communications_df.rename({\"Date\": \"date\"})\n",
    "communications_df"
   ]
  },
  {
   "cell_type": "code",
   "execution_count": null,
   "id": "dedc2c63",
   "metadata": {},
   "outputs": [],
   "source": [
    "communications_metadata_df = communications_df.join(econ_data_df, on=\"date\", how=\"left\")\n",
    "communications_metadata_df = communications_metadata_df.join(pres_df, on=\"date\", how=\"left\")\n",
    "communications_metadata_df = communications_metadata_df.drop_nulls()\n",
    "communications_metadata_df = communications_metadata_df.filter(pl.col(\"date\") >= date(2006, 10, 25))\n",
    "communications_metadata_df = communications_metadata_df.filter(pl.col(\"date\") <= date(2023, 12, 13))\n",
    "communications_metadata_df.write_parquet(\"../data/processed/communications_final.parquet\")\n",
    "communications_metadata_df"
   ]
  },
  {
   "cell_type": "code",
   "execution_count": null,
   "id": "4eaab80b",
   "metadata": {},
   "outputs": [],
   "source": [
    "comms_df = pl.read_parquet(\"../data/processed/communications_final.parquet\")\n",
    "comms_df"
   ]
  },
  {
   "cell_type": "code",
   "execution_count": null,
   "id": "a848f053",
   "metadata": {},
   "outputs": [],
   "source": [
    "dir = pathlib.Path(\"D:\\\\Projeto NLP\\\\output\\\\stm_fed_05_2025-06-11_22-25-46\")\n",
    "df = pl.read_parquet(dir / \"theta.parquet\")\n",
    "df"
   ]
  },
  {
   "cell_type": "code",
   "execution_count": null,
   "id": "fb4237b9",
   "metadata": {},
   "outputs": [],
   "source": [
    "df = pl.read_parquet(dir / \"topic_dist.parquet\")\n",
    "df"
   ]
  },
  {
   "cell_type": "code",
   "execution_count": null,
   "id": "5cb39356",
   "metadata": {},
   "outputs": [],
   "source": [
    "pl.read_parquet(\"../data/processed/communications_final.parquet\")"
   ]
  }
 ],
 "metadata": {
  "kernelspec": {
   "display_name": ".venv",
   "language": "python",
   "name": "python3"
  },
  "language_info": {
   "codemirror_mode": {
    "name": "ipython",
    "version": 3
   },
   "file_extension": ".py",
   "mimetype": "text/x-python",
   "name": "python",
   "nbconvert_exporter": "python",
   "pygments_lexer": "ipython3",
   "version": "3.12.10"
  }
 },
 "nbformat": 4,
 "nbformat_minor": 5
}
