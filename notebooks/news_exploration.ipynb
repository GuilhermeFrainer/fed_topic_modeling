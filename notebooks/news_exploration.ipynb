{
 "cells": [
  {
   "cell_type": "code",
   "execution_count": null,
   "id": "f10415ea",
   "metadata": {},
   "outputs": [],
   "source": [
    "import polars as pl\n",
    "from datetime import date\n",
    "import matplotlib.pyplot as plt\n",
    "import matplotlib.dates as mdates\n",
    "\n",
    "FILE = \"../data/filtered/04_no_null_articles.parquet\""
   ]
  },
  {
   "cell_type": "code",
   "execution_count": null,
   "id": "20462b3e",
   "metadata": {},
   "outputs": [],
   "source": [
    "lf = pl.scan_parquet(FILE)\n",
    "lf = lf.with_columns(\n",
    "    pl\n",
    "    .col(\"date\")\n",
    "    .cast(pl.Date)\n",
    "    .alias(\"date\")\n",
    ")\n",
    "lf = (\n",
    "    lf\n",
    "    .group_by(pl.col(\"date\"))\n",
    "    .agg(\n",
    "        pl.col(\"url\").count().alias(\"num_urls\"),\n",
    "        pl.col(\"title\").count().alias(\"num_titles\"),\n",
    "        pl.col(\"article\").count().alias(\"num_articles\"),\n",
    "    )\n",
    "    .sort(\"date\")\n",
    ")\n",
    "date_agg_df = lf.collect()\n",
    "date_agg_df"
   ]
  },
  {
   "cell_type": "code",
   "execution_count": null,
   "id": "c3f6b391",
   "metadata": {},
   "outputs": [],
   "source": [
    "plt.figure(figsize=(14,5))\n",
    "fig, ax = plt.subplots()\n",
    "ax.plot(date_agg_df[\"date\"].to_numpy(), date_agg_df[\"num_urls\"].to_numpy())\n",
    "plt.show()"
   ]
  },
  {
   "cell_type": "code",
   "execution_count": null,
   "id": "77db4e45",
   "metadata": {},
   "outputs": [],
   "source": [
    "def filter_outliers(df: pl.DataFrame, col: str) -> pl.DataFrame:\n",
    "    q1: float = df[col].quantile(0.25, \"nearest\")\n",
    "    q3: float = df[col].quantile(0.75, \"nearest\")\n",
    "\n",
    "    iqr = q3 - q1\n",
    "\n",
    "    # Define upper bound for outliers\n",
    "    upper_bound = q3 + 1.5 * iqr\n",
    "\n",
    "    # Filter out high outliers\n",
    "    return df.filter(pl.col(col) <= upper_bound)\n",
    "\n",
    "no_outliers_df = filter_outliers(date_agg_df, \"num_urls\")\n",
    "\n",
    "plt.figure(figsize=(14,5))\n",
    "fig, ax = plt.subplots()\n",
    "ax.scatter(no_outliers_df[\"date\"].to_numpy(), no_outliers_df[\"num_urls\"].to_numpy())\n",
    "plt.show()"
   ]
  },
  {
   "cell_type": "code",
   "execution_count": null,
   "id": "cd52d295",
   "metadata": {},
   "outputs": [],
   "source": [
    "no_outliers_df = filter_outliers(date_agg_df, \"num_articles\")\n",
    "\n",
    "plt.figure(figsize=(14,5))\n",
    "fig, ax = plt.subplots()\n",
    "ax.scatter(no_outliers_df[\"date\"].to_numpy(), no_outliers_df[\"num_articles\"].to_numpy())\n",
    "plt.show()"
   ]
  },
  {
   "cell_type": "code",
   "execution_count": null,
   "id": "a2a7ba0d",
   "metadata": {},
   "outputs": [],
   "source": [
    "before2010 = date_agg_df.filter(pl.col(\"date\") < date(2010, 1, 1))\n",
    "\n",
    "fig, ax = plt.subplots()\n",
    "\n",
    "months = mdates.MonthLocator(bymonth=[7, 12])\n",
    "months_fmt = mdates.DateFormatter(\"%Y-%m\")\n",
    "\n",
    "ax.xaxis.set_major_locator(months)\n",
    "ax.xaxis.set_major_formatter(months_fmt)\n",
    "\n",
    "plt.xticks(rotation=45)\n",
    "ax.scatter(before2010[\"date\"].to_numpy(), before2010[\"num_articles\"].to_numpy())\n",
    "plt.show()"
   ]
  },
  {
   "cell_type": "code",
   "execution_count": null,
   "id": "57ff7094",
   "metadata": {},
   "outputs": [],
   "source": [
    "before2010_no_outliers = filter_outliers(before2010, \"num_articles\")\n",
    "\n",
    "fig, ax = plt.subplots()\n",
    "\n",
    "months = mdates.MonthLocator(bymonth=[7, 12])\n",
    "months_fmt = mdates.DateFormatter(\"%Y-%m\")\n",
    "\n",
    "ax.xaxis.set_major_locator(months)\n",
    "ax.xaxis.set_major_formatter(months_fmt)\n",
    "\n",
    "plt.xticks(rotation=45)\n",
    "ax.scatter(before2010_no_outliers[\"date\"].to_numpy(), before2010_no_outliers[\"num_articles\"].to_numpy())\n",
    "plt.show()"
   ]
  },
  {
   "cell_type": "code",
   "execution_count": null,
   "id": "eceec541",
   "metadata": {},
   "outputs": [],
   "source": [
    "lf = pl.scan_parquet(FILE)\n",
    "lf = lf.with_columns(\n",
    "    pl\n",
    "    .col(\"date\")\n",
    "    .cast(pl.Date)\n",
    "    .dt.truncate(\"1mo\")\n",
    "    .alias(\"date\")\n",
    ")\n",
    "lf = lf.filter(pl.col(\"date\") < date(2010, 1, 1))\n",
    "lf = (\n",
    "    lf\n",
    "    .group_by(pl.col(\"date\"))\n",
    "    .agg(\n",
    "        pl.col(\"url\").count().alias(\"num_urls\"),\n",
    "        pl.col(\"title\").count().alias(\"num_titles\"),\n",
    "        pl.col(\"article\").count().alias(\"num_articles\"),\n",
    "    )\n",
    "    .sort(\"date\")\n",
    ")\n",
    "lf.head().collect()"
   ]
  },
  {
   "cell_type": "code",
   "execution_count": null,
   "id": "8dce8d6e",
   "metadata": {},
   "outputs": [],
   "source": [
    "df = lf.collect()"
   ]
  },
  {
   "cell_type": "code",
   "execution_count": null,
   "id": "43459c8b",
   "metadata": {},
   "outputs": [],
   "source": [
    "fig, ax = plt.subplots()\n",
    "\n",
    "months = mdates.MonthLocator(bymonth=[7, 12])\n",
    "months_fmt = mdates.DateFormatter(\"%Y-%m\")\n",
    "\n",
    "ax.xaxis.set_major_locator(months)\n",
    "ax.xaxis.set_major_formatter(months_fmt)\n",
    "\n",
    "plt.xticks(rotation=45)\n",
    "ax.plot(df[\"date\"].to_numpy(), df[\"num_articles\"].to_numpy())\n",
    "plt.show()"
   ]
  },
  {
   "cell_type": "code",
   "execution_count": null,
   "id": "4af19adc",
   "metadata": {},
   "outputs": [],
   "source": [
    "no_outliers_df = filter_outliers(df, \"num_articles\")\n",
    "\n",
    "fig, ax = plt.subplots()\n",
    "\n",
    "months = mdates.MonthLocator(bymonth=[7, 12])\n",
    "months_fmt = mdates.DateFormatter(\"%Y-%m\")\n",
    "\n",
    "ax.xaxis.set_major_locator(months)\n",
    "ax.xaxis.set_major_formatter(months_fmt)\n",
    "\n",
    "plt.xticks(rotation=45)\n",
    "ax.plot(no_outliers_df[\"date\"].to_numpy(), no_outliers_df[\"num_articles\"].to_numpy())\n",
    "plt.show()"
   ]
  },
  {
   "cell_type": "markdown",
   "id": "a7dca009",
   "metadata": {},
   "source": [
    "# Summary Statistics\n",
    "\n",
    "This section generates some summary statistics of the dataset,\n",
    "such as number of documents, words, and sentences."
   ]
  },
  {
   "cell_type": "code",
   "execution_count": null,
   "id": "c755c894",
   "metadata": {},
   "outputs": [],
   "source": [
    "import nltk\n",
    "from nltk.tokenize import word_tokenize, sent_tokenize\n",
    "\n",
    "nltk.download(\"punkt\")"
   ]
  },
  {
   "cell_type": "code",
   "execution_count": null,
   "id": "0f2d0ef4",
   "metadata": {},
   "outputs": [],
   "source": [
    "lf = pl.scan_parquet(FILE)"
   ]
  },
  {
   "cell_type": "code",
   "execution_count": null,
   "id": "358c6560",
   "metadata": {},
   "outputs": [],
   "source": [
    "lf.select([\n",
    "    pl.col(\"date\").min().alias(\"start_date\"),\n",
    "    pl.col(\"date\").max().alias(\"end_date\")\n",
    "]).collect()"
   ]
  },
  {
   "cell_type": "code",
   "execution_count": null,
   "id": "401a3ffe",
   "metadata": {},
   "outputs": [],
   "source": [
    "# Number of documents\n",
    "lf.select(\"article\").count().collect()"
   ]
  },
  {
   "cell_type": "code",
   "execution_count": null,
   "id": "0a0d7947",
   "metadata": {},
   "outputs": [],
   "source": [
    "def count_tokens(s: str) -> int:\n",
    "    words = word_tokenize(s)\n",
    "    return len(words)\n",
    "\n",
    "def count_sentences(s: str) -> int:\n",
    "    sentences = sent_tokenize(s)\n",
    "    return len(sentences)"
   ]
  },
  {
   "cell_type": "code",
   "execution_count": null,
   "id": "fdc973af",
   "metadata": {},
   "outputs": [],
   "source": [
    "df = lf.select(\"article\").collect()"
   ]
  },
  {
   "cell_type": "code",
   "execution_count": null,
   "id": "7af8a073",
   "metadata": {},
   "outputs": [],
   "source": [
    "df = df.with_columns(\n",
    "    pl.col(\"article\")\n",
    "    .map_elements(count_tokens, return_dtype=pl.Int64)\n",
    "    .alias(\"n_tokens\")\n",
    ")"
   ]
  },
  {
   "cell_type": "code",
   "execution_count": null,
   "id": "6aab1ee2",
   "metadata": {},
   "outputs": [],
   "source": [
    "df = df.with_columns(\n",
    "    pl.col(\"article\")\n",
    "    .map_elements(count_sentences, return_dtype=pl.Int64)\n",
    "    .alias(\"n_sentences\")\n",
    ")"
   ]
  },
  {
   "cell_type": "code",
   "execution_count": null,
   "id": "2672cd92",
   "metadata": {},
   "outputs": [],
   "source": [
    "df.write_parquet(\"../data/processed/tokenized_news.parquet\")"
   ]
  },
  {
   "cell_type": "code",
   "execution_count": null,
   "id": "36bb8d45",
   "metadata": {},
   "outputs": [],
   "source": [
    "df = pl.read_parquet(\"../data/processed/tokenized_news.parquet\")\n",
    "df"
   ]
  },
  {
   "cell_type": "code",
   "execution_count": null,
   "id": "7f4728cc",
   "metadata": {},
   "outputs": [],
   "source": [
    "print(\"Average tokens:\", df[\"n_tokens\"].mean())\n",
    "print(\"Average sentences:\", df[\"n_sentences\"].mean())"
   ]
  },
  {
   "cell_type": "code",
   "execution_count": null,
   "id": "e60c1c46",
   "metadata": {},
   "outputs": [],
   "source": [
    "print(\"Total tokens:\", df[\"n_tokens\"].sum())\n",
    "print(\"Total sentences:\", df[\"n_sentences\"].sum())"
   ]
  }
 ],
 "metadata": {
  "kernelspec": {
   "display_name": ".venv",
   "language": "python",
   "name": "python3"
  },
  "language_info": {
   "codemirror_mode": {
    "name": "ipython",
    "version": 3
   },
   "file_extension": ".py",
   "mimetype": "text/x-python",
   "name": "python",
   "nbconvert_exporter": "python",
   "pygments_lexer": "ipython3",
   "version": "3.12.10"
  }
 },
 "nbformat": 4,
 "nbformat_minor": 5
}
