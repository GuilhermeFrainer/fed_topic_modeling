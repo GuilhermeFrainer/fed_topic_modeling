{
 "cells": [
  {
   "cell_type": "code",
   "execution_count": null,
   "id": "950bdc0f",
   "metadata": {},
   "outputs": [],
   "source": [
    "import polars as pl\n",
    "from datetime import date\n",
    "from typing import NamedTuple"
   ]
  },
  {
   "cell_type": "code",
   "execution_count": null,
   "id": "dec85dab",
   "metadata": {},
   "outputs": [],
   "source": [
    "class Role(NamedTuple):\n",
    "    name: str\n",
    "    party: str | None\n",
    "    start: date\n",
    "    end: date"
   ]
  },
  {
   "cell_type": "code",
   "execution_count": null,
   "id": "e976ee67",
   "metadata": {},
   "outputs": [],
   "source": [
    "def get_president_df(dates: pl.Series, roles: list[Role]) -> pl.DataFrame:\n",
    "    names = []\n",
    "    parties = []\n",
    "    for d in dates:\n",
    "        for r in roles:\n",
    "            if r.start <= d <= r.end:\n",
    "                names.append(r.name)\n",
    "                parties.append(r.party)\n",
    "                break\n",
    "    return pl.DataFrame({\n",
    "        \"president\": names,\n",
    "        \"party\": parties\n",
    "    })\n",
    "\n",
    "def get_chairman_series(dates: pl.Series, roles: list[Role]) -> pl.Series:\n",
    "    names = []\n",
    "    for d in dates:\n",
    "        for r in roles:\n",
    "            if r.start <= d <= r.end:\n",
    "                names.append(r.name)\n",
    "                break\n",
    "    series = pl.Series(names)\n",
    "    series.rename(\"fed_chairman\")\n",
    "    return series"
   ]
  },
  {
   "cell_type": "code",
   "execution_count": null,
   "id": "5dc42f34",
   "metadata": {},
   "outputs": [],
   "source": [
    "presidents = [\n",
    "    Role(\"George W. Bush\", \"Republican\", date(2001, 1, 20), date(2009, 1, 20)),\n",
    "    Role(\"Barack Obama\", \"Democrat\", date(2009, 1, 20), date(2017, 1, 20)),\n",
    "    Role(\"Donald Trump\", \"Republican\", date(2017, 1, 20), date(2021, 1, 20)),\n",
    "    Role(\"Joe Biden\", \"Democrat\", date(2021, 1, 20), date(2025, 1, 20)),\n",
    "    Role(\"Donald Trump\", \"Republican\", date(2025, 1, 20), date(2029, 1, 20))\n",
    "]"
   ]
  },
  {
   "cell_type": "code",
   "execution_count": null,
   "id": "160b284d",
   "metadata": {},
   "outputs": [],
   "source": [
    "chairmen = [\n",
    "    Role(\"Alan Greenspan\", None, date(1987, 8, 11), date(2006, 2, 1)),\n",
    "    Role(\"Ben Bernanke\", None, date(2006, 2, 1), date(2014, 2, 1)),\n",
    "    Role(\"Janey Yellen\", None, date(2014, 2, 1), date(2018, 2, 5)),\n",
    "    Role(\"Jerome Powell\", None, date(2018,2, 5), date(2029, 1, 1))\n",
    "]"
   ]
  },
  {
   "cell_type": "code",
   "execution_count": null,
   "id": "23af0716",
   "metadata": {},
   "outputs": [],
   "source": [
    "date_range = pl.date_range(\n",
    "    start=date(2006, 1, 1),\n",
    "    end=date(2025, 12, 31),\n",
    "    interval=\"1d\",\n",
    "    eager=True\n",
    ").rename(\"date\")\n",
    "date_range"
   ]
  },
  {
   "cell_type": "code",
   "execution_count": null,
   "id": "8cbff169",
   "metadata": {},
   "outputs": [],
   "source": [
    "pres_df = get_president_df(date_range, presidents)\n",
    "fed_series = get_chairman_series(date_range, chairmen)\n",
    "df = pl.DataFrame({\n",
    "    \"date\": date_range,\n",
    "    \"president\": pres_df[\"president\"],\n",
    "    \"party\": pres_df[\"party\"],\n",
    "    \"fed_chair\": fed_series\n",
    "})\n",
    "df.write_csv(\"../data/raw/presidents_and_chairmen.csv\")\n",
    "df"
   ]
  }
 ],
 "metadata": {
  "kernelspec": {
   "display_name": ".venv",
   "language": "python",
   "name": "python3"
  },
  "language_info": {
   "codemirror_mode": {
    "name": "ipython",
    "version": 3
   },
   "file_extension": ".py",
   "mimetype": "text/x-python",
   "name": "python",
   "nbconvert_exporter": "python",
   "pygments_lexer": "ipython3",
   "version": "3.12.10"
  }
 },
 "nbformat": 4,
 "nbformat_minor": 5
}
