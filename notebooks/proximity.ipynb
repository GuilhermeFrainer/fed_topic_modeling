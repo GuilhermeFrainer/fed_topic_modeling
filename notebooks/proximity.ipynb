{
 "cells": [
  {
   "cell_type": "code",
   "execution_count": null,
   "id": "4ae287ef",
   "metadata": {},
   "outputs": [],
   "source": [
    "import polars as pl\n",
    "import numpy as np\n",
    "import pathlib\n",
    "\n",
    "\n",
    "NEWS_PATH = r\"D:\\Projeto NLP\\output\\stm_news_2025-06-14_14-11-59_topics_13\"\n",
    "FED_PATH = r\"D:\\Projeto NLP\\output\\stm_fed_14_2025-06-13_10-32-17\"\n",
    "\n",
    "news_path = pathlib.Path(NEWS_PATH)\n",
    "fed_path = pathlib.Path(FED_PATH)"
   ]
  },
  {
   "cell_type": "code",
   "execution_count": null,
   "id": "8a6a9601",
   "metadata": {},
   "outputs": [],
   "source": [
    "news_df = pl.read_parquet(news_path / \"topic_dist.parquet\")\n",
    "news_df"
   ]
  },
  {
   "cell_type": "code",
   "execution_count": null,
   "id": "9bd52d91",
   "metadata": {},
   "outputs": [],
   "source": [
    "news_df.min_horizontal().min()"
   ]
  },
  {
   "cell_type": "code",
   "execution_count": null,
   "id": "9c14011e",
   "metadata": {},
   "outputs": [],
   "source": [
    "fed_df = pl.read_parquet(fed_path / \"topic_dist.parquet\")\n",
    "fed_df"
   ]
  },
  {
   "cell_type": "code",
   "execution_count": null,
   "id": "9ff26240",
   "metadata": {},
   "outputs": [],
   "source": [
    "fed_cols = set(fed_df.columns)\n",
    "news_cols = set(news_df.columns)\n",
    "\n",
    "news_only_cols = news_cols - fed_cols\n",
    "news_only_cols\n",
    "#for col in news_only_cols:\n",
    "#    fed_df = fed_df.with_columns(pl.lit(0).alias(col))\n",
    "#fed_df"
   ]
  }
 ],
 "metadata": {
  "kernelspec": {
   "display_name": ".venv",
   "language": "python",
   "name": "python3"
  },
  "language_info": {
   "codemirror_mode": {
    "name": "ipython",
    "version": 3
   },
   "file_extension": ".py",
   "mimetype": "text/x-python",
   "name": "python",
   "nbconvert_exporter": "python",
   "pygments_lexer": "ipython3",
   "version": "3.12.10"
  }
 },
 "nbformat": 4,
 "nbformat_minor": 5
}
