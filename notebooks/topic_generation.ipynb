{
 "cells": [
  {
   "cell_type": "code",
   "execution_count": null,
   "id": "c243f12c",
   "metadata": {},
   "outputs": [],
   "source": [
    "import polars as pl\n",
    "import bertopic\n",
    "from sklearn.feature_extraction.text import CountVectorizer\n",
    "from sklearn.decomposition import LatentDirichletAllocation\n",
    "from dotenv import dotenv_values\n",
    "import pathlib\n",
    "from gensim.corpora.dictionary import Dictionary\n",
    "import numpy as np\n",
    "\n",
    "config = dotenv_values(\"../.env\")\n",
    "FILE = f\"../{config[\"DATA_DIR\"]}/communications_preprocessed.csv\"\n",
    "WORKERS = 4\n",
    "MIN_TOPICS = 5\n",
    "MAX_TOPICS = 30"
   ]
  },
  {
   "cell_type": "code",
   "execution_count": null,
   "id": "649b9018",
   "metadata": {},
   "outputs": [],
   "source": [
    "df = pl.read_csv(FILE)\n",
    "df"
   ]
  },
  {
   "cell_type": "code",
   "execution_count": null,
   "id": "85ffb8b4",
   "metadata": {},
   "outputs": [],
   "source": [
    "vectorizer = CountVectorizer()\n",
    "doc_matrix = vectorizer.fit_transform(df[\"stemmed_text\"])\n",
    "vectorizer.get_feature_names_out()"
   ]
  },
  {
   "cell_type": "code",
   "execution_count": null,
   "id": "7d5e419a",
   "metadata": {},
   "outputs": [],
   "source": [
    "def generate_topics(n: int, feature_names: list[str], doc_matrix, n_top_words=10) -> list[str]:\n",
    "    lda = LatentDirichletAllocation(n_components=n)\n",
    "    lda.fit(doc_matrix)\n",
    "    topics = []\n",
    "    for idx, topic in enumerate(lda.components_):\n",
    "        topics.append([feature_names[i] for i in topic.argsort()[:-n_top_words - 1:-1]])\n",
    "    return topics"
   ]
  },
  {
   "cell_type": "code",
   "execution_count": null,
   "id": "2e49ccbf",
   "metadata": {},
   "outputs": [],
   "source": [
    "feature_names = vectorizer.get_feature_names_out()\n",
    "n_top_words = 10\n",
    "for n in range(5, 31):\n",
    "    topics = generate_topics(n, feature_names, doc_matrix, n_top_words=n_top_words)\n",
    "    rows = [[i + 1] + t for i, t in enumerate(topics)]\n",
    "    columns = [\"topic\"] + [f\"word_{i + 1}\" for i in range(n_top_words)]\n",
    "    topics_df = pl.DataFrame(rows, schema=columns, orient=\"row\")\n",
    "    topics_df.write_csv(f\"../{config[\"OUTPUT_DIR\"]}/lda_{n:02}_topics.csv\")"
   ]
  },
  {
   "cell_type": "code",
   "execution_count": null,
   "id": "cc22511c",
   "metadata": {},
   "outputs": [],
   "source": [
    "dfs = []\n",
    "for i in range(5, 31):\n",
    "    df = pl.read_csv(f\"../{config[\"OUTPUT_DIR\"]}/lda_{i:02}_topics.csv\")\n",
    "    dfs.append(df)\n",
    "dfs"
   ]
  },
  {
   "cell_type": "code",
   "execution_count": null,
   "id": "d01b3f80",
   "metadata": {},
   "outputs": [],
   "source": [
    "def get_topic_for_row(df: pl.DataFrame, i: int) -> list[str]:\n",
    "    return df.row(i)[1:]\n",
    "\n",
    "get_topic_for_row(dfs[0], 1)"
   ]
  },
  {
   "cell_type": "code",
   "execution_count": null,
   "id": "dd1ad4c6",
   "metadata": {},
   "outputs": [],
   "source": [
    "communications_df = pl.read_csv(f\"../{config[\"DATA_DIR\"]}/communications_preprocessed.csv\")\n",
    "communications_df"
   ]
  },
  {
   "cell_type": "code",
   "execution_count": null,
   "id": "14570d15",
   "metadata": {},
   "outputs": [],
   "source": [
    "from gensim.models.coherencemodel import CoherenceModel\n",
    "from gensim.corpora.dictionary import Dictionary\n",
    "\n",
    "texts = [s.split() for s in communications_df[\"stemmed_text\"]]\n",
    "gensim_dict = Dictionary(documents=texts)\n",
    "coherence_metrics = []\n",
    "for df in dfs:\n",
    "    topics = [get_topic_for_row(df, i) for i in range(len(df))]\n",
    "    cm = CoherenceModel(topics=topics, texts=texts, dictionary=gensim_dict)\n",
    "    coherence = cm.get_coherence()\n",
    "    coherence_metrics.append(coherence)\n",
    "coherence_metrics"
   ]
  },
  {
   "cell_type": "code",
   "execution_count": null,
   "id": "ca2932a0",
   "metadata": {},
   "outputs": [],
   "source": [
    "coherence_df = pl.DataFrame({\"topic\": [i for i in range(5, 31)], \"coherence\": coherence_metrics})\n",
    "coherence_df.write_csv(f\"../{config[\"OUTPUT_DIR\"]}/topic_coherence_lda.csv\")\n",
    "coherence_df"
   ]
  },
  {
   "cell_type": "code",
   "execution_count": null,
   "id": "38c79af2",
   "metadata": {},
   "outputs": [],
   "source": [
    "coherence_df.sort(\"coherence\", descending=True)"
   ]
  },
  {
   "cell_type": "code",
   "execution_count": null,
   "id": "4db9e887",
   "metadata": {},
   "outputs": [],
   "source": [
    "from gensim.models.ldamulticore import LdaMulticore\n",
    "\n",
    "texts = [s.split() for s in df[\"stemmed_text\"]]\n",
    "gensim_dict = Dictionary(documents=texts)\n",
    "corpus = [gensim_dict.doc2bow(t) for t in texts]"
   ]
  },
  {
   "cell_type": "code",
   "execution_count": null,
   "id": "c92dc851",
   "metadata": {},
   "outputs": [],
   "source": [
    "lda = LdaMulticore(corpus, num_topics=10, workers=WORKERS, id2word=gensim_dict)"
   ]
  },
  {
   "cell_type": "code",
   "execution_count": null,
   "id": "8a318050",
   "metadata": {},
   "outputs": [],
   "source": [
    "def get_topics_df(lda) -> pl.DataFrame:\n",
    "    topics = lda.show_topics(formatted=False)\n",
    "    d = {\"word\": [], \"topic\": [], \"prob\": []}\n",
    "    for topic_num, word_probs in topics:\n",
    "        for word, prob in word_probs:\n",
    "            d[\"word\"].append(word)\n",
    "            d[\"topic\"].append(topic_num + 1)\n",
    "            d[\"prob\"].append(prob)\n",
    "    return pl.DataFrame(d)"
   ]
  },
  {
   "cell_type": "code",
   "execution_count": null,
   "id": "4ae35fca",
   "metadata": {},
   "outputs": [],
   "source": [
    "get_topics_df(lda)"
   ]
  },
  {
   "cell_type": "markdown",
   "id": "cc9a81a6",
   "metadata": {},
   "source": [
    "Source for exclusivity calculation:\n",
    "ChatGPT, but corroborated by the [STM for Open Ended Survey Responses Online Appendix](https://scholar.harvard.edu/files/dtingley/files/ajpsappendix.pdf)"
   ]
  },
  {
   "cell_type": "code",
   "execution_count": null,
   "id": "23e9f5f0",
   "metadata": {},
   "outputs": [],
   "source": [
    "import gensim.models.basemodel\n",
    "\n",
    "def get_exclusivity(model: gensim.models.basemodel.BaseTopicModel) -> np.ndarray: \n",
    "    topic_word_probs: np.ndarray = model.get_topics()\n",
    "    word_totals = topic_word_probs.sum(axis=0)\n",
    "    word_totals[word_totals == 0] = 1e-10 # Avoids division by zero\n",
    "    return topic_word_probs / word_totals\n",
    "get_exclusivity(lda)"
   ]
  },
  {
   "cell_type": "code",
   "execution_count": null,
   "id": "ca8ae1c5",
   "metadata": {},
   "outputs": [],
   "source": [
    "from gensim.models.coherencemodel import CoherenceModel\n",
    "\n",
    "cm = CoherenceModel(model=lda, corpus=gensim_dict, texts=texts)\n",
    "coherence = cm.get_coherence()\n",
    "coherence"
   ]
  },
  {
   "cell_type": "code",
   "execution_count": null,
   "id": "8661d5dc",
   "metadata": {},
   "outputs": [],
   "source": [
    "from gensim.models.ldamulticore import LdaMulticore\n",
    "import warnings\n",
    "\n",
    "texts = [s.split() for s in df[\"stemmed_text\"]]\n",
    "gensim_dict = Dictionary(documents=texts)\n",
    "corpus = [gensim_dict.doc2bow(t) for t in texts]\n",
    "\n",
    "metrics_dict = {\"n_topics\": [], \"exclusivity\": [], \"coherence\": []}\n",
    "\n",
    "warnings.warn(\"Exclusivity metrics are calculated improperly for now\")\n",
    "for n in range(MIN_TOPICS, 6):\n",
    "    print(f\"Training model with {n} topics\")\n",
    "    lda = LdaMulticore(corpus, num_topics=n, workers=WORKERS, id2word=gensim_dict)\n",
    "    topics = get_topics_df(lda)\n",
    "\n",
    "    exclusivity = get_exclusivity(lda).sum()\n",
    "\n",
    "    print(\"Computing coherence\")\n",
    "    cm = CoherenceModel(model=lda, corpus=corpus, texts=texts)\n",
    "    coherence = cm.get_coherence()\n",
    "\n",
    "    metrics_dict[\"n_topics\"].append(n)\n",
    "    metrics_dict[\"exclusivity\"].append(exclusivity)\n",
    "    metrics_dict[\"coherence\"].append(coherence)\n",
    "\n",
    "    filename = f\"../{config[\"OUTPUT_DIR\"]}/lda_{n:02}_topics.csv\"\n",
    "    topics.write_csv(filename)\n",
    "    print(f\"Results saved to {filename}\")\n",
    "\n",
    "metrics_df = pl.DataFrame(metrics_dict)\n",
    "metrics_filename = f\"../{config[\"OUTPUT_DIR\"]}/lda_metrics.csv\"\n",
    "metrics_df.write_csv(metrics_filename)\n",
    "print(f\"Metrics saved to {metrics_filename}\")"
   ]
  }
 ],
 "metadata": {
  "kernelspec": {
   "display_name": "Python 3",
   "language": "python",
   "name": "python3"
  },
  "language_info": {
   "codemirror_mode": {
    "name": "ipython",
    "version": 3
   },
   "file_extension": ".py",
   "mimetype": "text/x-python",
   "name": "python",
   "nbconvert_exporter": "python",
   "pygments_lexer": "ipython3",
   "version": "3.12.10"
  }
 },
 "nbformat": 4,
 "nbformat_minor": 5
}
