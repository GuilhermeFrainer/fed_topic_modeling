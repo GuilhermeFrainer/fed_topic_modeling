{
 "cells": [
  {
   "cell_type": "code",
   "execution_count": null,
   "id": "46e02f9d",
   "metadata": {},
   "outputs": [],
   "source": [
    "import polars as pl\n",
    "import numpy as np\n",
    "import matplotlib.pyplot as plt\n",
    "\n",
    "FILE = \"../data/filtered/06_stemmed_text.parquet\"\n",
    "OUT_FILE = \"../data/filtered/07_sampled_news.parquet\"\n",
    "N = 10\n",
    "SEED = 275877"
   ]
  },
  {
   "cell_type": "code",
   "execution_count": null,
   "id": "02706597",
   "metadata": {},
   "outputs": [],
   "source": [
    "np.random.seed(SEED)\n",
    "\n",
    "lf = pl.scan_parquet(FILE)\n",
    "lf_height = lf.select(pl.len()).collect().item()\n",
    "lf = (\n",
    "    lf.with_columns(\n",
    "        pl.lit(np.random.rand(lf_height)).alias(\"rand\")\n",
    "    )\n",
    "    .sort([\"date\", \"rand\"])\n",
    "    .group_by(\"date\")\n",
    "    .head(N)\n",
    "    .select([col for col in lf.collect_schema().names()])\n",
    ")\n",
    "df = lf.collect()\n",
    "df.write_parquet(OUT_FILE)\n",
    "df"
   ]
  },
  {
   "cell_type": "code",
   "execution_count": null,
   "id": "f8a094cc",
   "metadata": {},
   "outputs": [],
   "source": [
    "df = (\n",
    "    df \n",
    "    .group_by(pl.col(\"date\"))\n",
    "    .agg(\n",
    "        pl.col(\"url\").count().alias(\"num_urls\"),\n",
    "        pl.col(\"title\").count().alias(\"num_titles\"),\n",
    "        pl.col(\"text\").count().alias(\"num_articles\"),\n",
    "    )\n",
    "    .sort(\"date\")\n",
    ")\n",
    "df"
   ]
  },
  {
   "cell_type": "code",
   "execution_count": null,
   "id": "2d3e52b2",
   "metadata": {},
   "outputs": [],
   "source": [
    "plt.figure(figsize=(14,5))\n",
    "fig, ax = plt.subplots()\n",
    "ax.plot(df[\"date\"].to_numpy(), df[\"num_articles\"].to_numpy())\n",
    "plt.show()"
   ]
  }
 ],
 "metadata": {
  "kernelspec": {
   "display_name": ".venv",
   "language": "python",
   "name": "python3"
  },
  "language_info": {
   "codemirror_mode": {
    "name": "ipython",
    "version": 3
   },
   "file_extension": ".py",
   "mimetype": "text/x-python",
   "name": "python",
   "nbconvert_exporter": "python",
   "pygments_lexer": "ipython3",
   "version": "3.12.10"
  }
 },
 "nbformat": 4,
 "nbformat_minor": 5
}
