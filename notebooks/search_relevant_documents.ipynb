{
 "cells": [
  {
   "cell_type": "code",
   "execution_count": null,
   "id": "be60d62f",
   "metadata": {},
   "outputs": [],
   "source": [
    "import polars as pl\n",
    "\n",
    "COMMS_SEARCH_FILE = \"../data/processed/communications_search.parquet\"\n",
    "NEWS_SEARCH_FILE = \"../data/processed/news_search.parquet\"\n",
    "NEWS_FINAL_FILE = \"../data/processed/news_final.parquet\""
   ]
  },
  {
   "cell_type": "code",
   "execution_count": null,
   "id": "d31b9aae",
   "metadata": {},
   "outputs": [],
   "source": [
    "df = pl.read_parquet(COMMS_SEARCH_FILE)"
   ]
  },
  {
   "cell_type": "code",
   "execution_count": null,
   "id": "afc14fee",
   "metadata": {},
   "outputs": [],
   "source": [
    "row = 191\n",
    "df[row]"
   ]
  },
  {
   "cell_type": "code",
   "execution_count": null,
   "id": "796e9673",
   "metadata": {},
   "outputs": [],
   "source": [
    "idx = 35953\n",
    "\n",
    "df = pl.read_parquet(NEWS_FINAL_FILE)\n",
    "search_text = df[idx][\"text\"].item()\n",
    "res = pl.scan_parquet(NEWS_SEARCH_FILE).filter(pl.col(\"text\") == search_text).collect()\n",
    "res"
   ]
  },
  {
   "cell_type": "code",
   "execution_count": null,
   "id": "1b907557",
   "metadata": {},
   "outputs": [],
   "source": [
    "res[\"url\"][0]"
   ]
  },
  {
   "cell_type": "code",
   "execution_count": null,
   "id": "33cfc6c7",
   "metadata": {},
   "outputs": [],
   "source": [
    "res[\"article\"][0]"
   ]
  }
 ],
 "metadata": {
  "kernelspec": {
   "display_name": ".venv",
   "language": "python",
   "name": "python3"
  },
  "language_info": {
   "codemirror_mode": {
    "name": "ipython",
    "version": 3
   },
   "file_extension": ".py",
   "mimetype": "text/x-python",
   "name": "python",
   "nbconvert_exporter": "python",
   "pygments_lexer": "ipython3",
   "version": "3.12.10"
  }
 },
 "nbformat": 4,
 "nbformat_minor": 5
}
