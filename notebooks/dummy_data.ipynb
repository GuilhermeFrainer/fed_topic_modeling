{
 "cells": [
  {
   "cell_type": "code",
   "execution_count": null,
   "id": "0395d7b1",
   "metadata": {},
   "outputs": [],
   "source": [
    "from sklearn.datasets import fetch_20newsgroups"
   ]
  },
  {
   "cell_type": "code",
   "execution_count": null,
   "id": "307216a6",
   "metadata": {},
   "outputs": [],
   "source": [
    "data = fetch_20newsgroups(subset=\"all\", remove=(\"headers\", \"footers\", \"quotes\"), categories=[\"sci.space\", \"rec.sport.baseball\"])"
   ]
  },
  {
   "cell_type": "code",
   "execution_count": null,
   "id": "95392fc1",
   "metadata": {},
   "outputs": [],
   "source": [
    "sample = data[\"data\"][:10]\n",
    "sample"
   ]
  },
  {
   "cell_type": "code",
   "execution_count": null,
   "id": "65e795a3",
   "metadata": {},
   "outputs": [],
   "source": [
    "import re\n",
    "import nltk\n",
    "from nltk.corpus import stopwords\n",
    "\n",
    "def preprocess(text: str, stop_words: set) -> str:\n",
    "    \"\"\"\n",
    "    Performs basic pre-processing.\n",
    "    Lowercases text, removes non-words and stopwords.\n",
    "\n",
    "    Parameters\n",
    "    ----------\n",
    "    text : str\n",
    "        String to be preprocessed. Expected to be raw text from `communications.csv`.\n",
    "    stop_words : set\n",
    "        Set of English stopwords from nltk.\n",
    "\n",
    "    Returns\n",
    "    -------\n",
    "    str\n",
    "        Preprocessed string.\n",
    "    \"\"\"\n",
    "    text = re.sub(r'[^a-zA-Z_]', ' ', text) # removes non-words\n",
    "    words = text.lower().split()\n",
    "    filtered_words = [w for w in words if w not in stop_words]\n",
    "    return \" \".join(filtered_words)\n",
    "\n",
    "\n",
    "def stem(text: str, stemmer) -> str:\n",
    "    \"\"\"\n",
    "    Stems the string.\n",
    "\n",
    "    Parameters\n",
    "    ----------\n",
    "    text : str\n",
    "        String to be stemmed. Expected to be preprocessed text from `communications_preprocessed.csv`.\n",
    "\n",
    "    Returns\n",
    "    -------\n",
    "    str\n",
    "        String containing stemmed words.\n",
    "    \"\"\"\n",
    "    tokens = nltk.word_tokenize(text)\n",
    "    return \" \".join([stemmer.stem(t) for t in tokens])"
   ]
  },
  {
   "cell_type": "code",
   "execution_count": null,
   "id": "5f26d774",
   "metadata": {},
   "outputs": [],
   "source": [
    "stop_words = set(stopwords.words(\"english\"))\n",
    "stemmer = nltk.stem.SnowballStemmer(\"english\")\n",
    "\n",
    "preprocessed_text = [preprocess(s, stop_words=stop_words) for s in sample]\n",
    "stemmed_text = [stem(s, stemmer=stemmer) for s in preprocessed_text]\n",
    "stemmed_text"
   ]
  },
  {
   "cell_type": "code",
   "execution_count": null,
   "id": "816133be",
   "metadata": {},
   "outputs": [],
   "source": [
    "import polars as pl\n",
    "\n",
    "df = pl.DataFrame({\"raw_text\": sample, \"clean_text\": preprocessed_text, \"stemmed_text\": stemmed_text})\n",
    "df"
   ]
  },
  {
   "cell_type": "code",
   "execution_count": null,
   "id": "d235406e",
   "metadata": {},
   "outputs": [],
   "source": [
    "df.write_csv(\"../data/dummy_data.csv\")"
   ]
  }
 ],
 "metadata": {
  "kernelspec": {
   "display_name": "venv",
   "language": "python",
   "name": "python3"
  },
  "language_info": {
   "codemirror_mode": {
    "name": "ipython",
    "version": 3
   },
   "file_extension": ".py",
   "mimetype": "text/x-python",
   "name": "python",
   "nbconvert_exporter": "python",
   "pygments_lexer": "ipython3",
   "version": "3.12.10"
  }
 },
 "nbformat": 4,
 "nbformat_minor": 5
}
