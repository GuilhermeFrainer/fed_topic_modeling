{
 "cells": [
  {
   "cell_type": "code",
   "execution_count": null,
   "id": "806fcaff",
   "metadata": {},
   "outputs": [],
   "source": [
    "from dotenv import dotenv_values\n",
    "import polars as pl\n",
    "import pathlib\n",
    "from datetime import date\n",
    "import re\n",
    "import matplotlib.pyplot as plt\n",
    "import matplotlib.dates as mdates\n",
    "\n",
    "EARLIEST = \"1999-12-21\"\n",
    "NO_RUSSIANS = \"../data/filtered/03_no_russians.parquet\""
   ]
  },
  {
   "cell_type": "code",
   "execution_count": null,
   "id": "779f6264",
   "metadata": {},
   "outputs": [],
   "source": [
    "config: dict[str, str] = dotenv_values(\"../.env\")\n",
    "data_dir = pathlib.Path( \"../\" + config[\"DATA_DIR\"])\n",
    "lf = pl.scan_csv(data_dir / \"raw/nasdaq_exteral_data.csv\")\n",
    "lf = lf.with_columns(\n",
    "    pl.col(\"Date\")\n",
    "    .str.replace(\" UTC\", \"\")  # remove \" UTC\"\n",
    "    .str.strptime(pl.Datetime, \"%Y-%m-%d %H:%M:%S\")\n",
    "    .alias(\"parsed_date\")\n",
    ")"
   ]
  },
  {
   "cell_type": "code",
   "execution_count": null,
   "id": "0ddff34b",
   "metadata": {},
   "outputs": [],
   "source": [
    "lf.head().collect()"
   ]
  },
  {
   "cell_type": "code",
   "execution_count": null,
   "id": "fb19805e",
   "metadata": {},
   "outputs": [],
   "source": [
    "lf = lf.with_columns(\n",
    "    pl.col(\"Unnamed: 0\").cast(pl.Int64, strict=False).alias(\"row_number\")\n",
    ")\n",
    "rename_cols = {\n",
    "    \"parsed_date\": \"date\",\n",
    "    \"Article_title\": \"title\",\n",
    "    \"Article\": \"article\",\n",
    "    \"Url\": \"url\",\n",
    "    \"Publisher\": \"publisher\",\n",
    "    \"Author\": \"author\"\n",
    "}\n",
    "select_columns_lf = (\n",
    "    lf\n",
    "    .select([\"row_number\", \"parsed_date\", \"Article_title\", \"Article\", \"Url\", \"Publisher\", \"Author\"])\n",
    "    .rename(rename_cols)\n",
    ")\n",
    "select_columns_lf.head().collect()"
   ]
  },
  {
   "cell_type": "code",
   "execution_count": null,
   "id": "d303e60e",
   "metadata": {},
   "outputs": [],
   "source": [
    "select_columns_lf.sink_parquet(\"../data/filtered/01_relevant_cols.parquet\")"
   ]
  },
  {
   "cell_type": "code",
   "execution_count": null,
   "id": "0fc45877",
   "metadata": {},
   "outputs": [],
   "source": [
    "lf = pl.scan_parquet(\"../data/filtered/01_relevant_cols.parquet\")\n",
    "limit_date = date.fromisoformat(EARLIEST)\n",
    "date_filtered_lf = lf.filter(\n",
    "    pl.col(\"date\") >= pl.datetime(limit_date.year, limit_date.month, limit_date.day, 0, 0, 0)\n",
    ")\n",
    "sorted_lf = (\n",
    "    date_filtered_lf\n",
    "    .sort(\"date\")\n",
    ")\n",
    "sorted_lf.head().collect()"
   ]
  },
  {
   "cell_type": "code",
   "execution_count": null,
   "id": "f095aee6",
   "metadata": {},
   "outputs": [],
   "source": [
    "date_filtered_lf.sink_parquet(\"../data/filtered/02_1999-2023.parquet\")"
   ]
  },
  {
   "cell_type": "code",
   "execution_count": null,
   "id": "9f8e8028",
   "metadata": {},
   "outputs": [],
   "source": [
    "lf = pl.scan_parquet(\"../data/filtered/02_1999-2023.parquet\")\n",
    "authors = lf.select(\"author\").collect()\n",
    "authors"
   ]
  },
  {
   "cell_type": "code",
   "execution_count": null,
   "id": "5a8f850e",
   "metadata": {},
   "outputs": [],
   "source": [
    "publishers = lf.select(\"publisher\").collect()[\"publisher\"]\n",
    "publishers = set(publishers)\n",
    "publishers"
   ]
  },
  {
   "cell_type": "code",
   "execution_count": null,
   "id": "e84d8365",
   "metadata": {},
   "outputs": [],
   "source": [
    "lf = pl.scan_parquet(\"../data/filtered/03_english_only.parquet\")\n",
    "lf = lf.with_columns(\n",
    "    pl.col(\"title\").str.to_lowercase().alias(\"lowercase_title\")\n",
    ")\n",
    "lf.head().collect()"
   ]
  },
  {
   "cell_type": "code",
   "execution_count": null,
   "id": "08cbfb47",
   "metadata": {},
   "outputs": [],
   "source": [
    "mentions_fed_lf = lf.filter(\n",
    "    pl.col(\"lowercase_title\").str.contains(\"federal reserve\")\n",
    ")"
   ]
  },
  {
   "cell_type": "code",
   "execution_count": null,
   "id": "5129d372",
   "metadata": {},
   "outputs": [],
   "source": [
    "def mentions_count(lf: pl.LazyFrame, s: str) -> pl.DataFrame:\n",
    "    lf = lf.filter(\n",
    "        pl.col(\"lowercase_title\").str.contains(s)\n",
    "    )\n",
    "    return lf.count().collect()\n",
    "\n",
    "mentions_count(lf, \"inflation\")"
   ]
  },
  {
   "cell_type": "code",
   "execution_count": null,
   "id": "2af996cf",
   "metadata": {},
   "outputs": [],
   "source": [
    "not_null_article_lf = lf.filter(\n",
    "    pl.col(\"article\").is_not_null()\n",
    ")\n",
    "not_null_article_lf.count().collect()"
   ]
  },
  {
   "cell_type": "code",
   "execution_count": null,
   "id": "86078493",
   "metadata": {},
   "outputs": [],
   "source": [
    "lf = pl.scan_parquet(\"../data/filtered/02_1999-2023.parquet\")\n",
    "unique_publishers = lf.select(\"publisher\").unique().collect()\n",
    "print(len(unique_publishers))\n",
    "for p in unique_publishers[\"publisher\"]:\n",
    "    print(p)"
   ]
  },
  {
   "cell_type": "code",
   "execution_count": null,
   "id": "287ba914",
   "metadata": {},
   "outputs": [],
   "source": [
    "unique_authors = lf.select(\"author\").unique().collect()\n",
    "print(len(unique_authors))\n",
    "for a in unique_authors[\"author\"]:\n",
    "    print(a)"
   ]
  },
  {
   "cell_type": "code",
   "execution_count": null,
   "id": "dee14f26",
   "metadata": {},
   "outputs": [],
   "source": [
    "cyrillic_pattern = re.compile(r'[\\u0400-\\u04FF]')\n",
    "\n",
    "def contains_cyrillic(s: str) -> bool:\n",
    "    if s:\n",
    "        return bool(cyrillic_pattern.search(s))\n",
    "    else:\n",
    "        return False"
   ]
  },
  {
   "cell_type": "code",
   "execution_count": null,
   "id": "ac13ec69",
   "metadata": {},
   "outputs": [],
   "source": [
    "lf = pl.scan_parquet(\"../data/filtered/02_1999-2023.parquet\")\n",
    "no_russians_lf = lf.filter(\n",
    "    ~pl.col(\"title\").map_elements(contains_cyrillic, return_dtype=pl.Boolean)\n",
    ")\n",
    "no_russians_lf.sink_parquet(\"../data/filtered/03_no_russians.parquet\")"
   ]
  },
  {
   "cell_type": "code",
   "execution_count": null,
   "id": "4bd68fb3",
   "metadata": {},
   "outputs": [],
   "source": [
    "lf = pl.scan_parquet(\"../data/filtered/02_1999-2023.parquet\")\n",
    "print(lf.count().collect())\n",
    "lf = pl.scan_parquet(\"../data/filtered/03_no_russians.parquet\")\n",
    "print(lf.count().collect())"
   ]
  },
  {
   "cell_type": "code",
   "execution_count": null,
   "id": "c712b8db",
   "metadata": {},
   "outputs": [],
   "source": [
    "lf = pl.scan_parquet(\"../data/filtered/03_no_russians.parquet\")\n",
    "unique_publishers = lf.select(\"publisher\").unique().collect()\n",
    "print(len(unique_publishers))\n",
    "for p in unique_publishers[\"publisher\"]:\n",
    "    print(p)"
   ]
  },
  {
   "cell_type": "code",
   "execution_count": null,
   "id": "b3cf0110",
   "metadata": {},
   "outputs": [],
   "source": [
    "lf = pl.scan_parquet(NO_RUSSIANS)\n",
    "no_null_articles_lf = lf.filter(pl.col(\"article\").is_not_null())\n",
    "no_null_articles_lf.sink_parquet(\"../data/filtered/04_no_null_articles.parquet\")"
   ]
  }
 ],
 "metadata": {
  "kernelspec": {
   "display_name": ".venv",
   "language": "python",
   "name": "python3"
  },
  "language_info": {
   "codemirror_mode": {
    "name": "ipython",
    "version": 3
   },
   "file_extension": ".py",
   "mimetype": "text/x-python",
   "name": "python",
   "nbconvert_exporter": "python",
   "pygments_lexer": "ipython3",
   "version": "3.12.10"
  }
 },
 "nbformat": 4,
 "nbformat_minor": 5
}
