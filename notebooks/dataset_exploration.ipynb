{
 "cells": [
  {
   "cell_type": "markdown",
   "id": "82d13744",
   "metadata": {},
   "source": [
    "This notebook's purpose is to serve as a first look into the FNSPID dataset."
   ]
  },
  {
   "cell_type": "code",
   "execution_count": null,
   "id": "119362df",
   "metadata": {},
   "outputs": [],
   "source": [
    "import polars as pl\n",
    "\n",
    "FILE = \"../data/raw/nasdaq_exteral_data.csv\"\n",
    "\n",
    "# Must be scanned cause the dataset is just too big\n",
    "lf = pl.scan_csv(FILE)"
   ]
  },
  {
   "cell_type": "code",
   "execution_count": null,
   "id": "ca9aba7f",
   "metadata": {},
   "outputs": [],
   "source": [
    "df = lf.limit(5).collect()\n",
    "df"
   ]
  },
  {
   "cell_type": "code",
   "execution_count": null,
   "id": "4df8208f",
   "metadata": {},
   "outputs": [],
   "source": [
    "df = lf.limit(100).collect()\n",
    "df"
   ]
  },
  {
   "cell_type": "code",
   "execution_count": null,
   "id": "17e2193e",
   "metadata": {},
   "outputs": [],
   "source": [
    "df = lf.first().collect()\n",
    "df[\"Url\"][0]"
   ]
  },
  {
   "cell_type": "code",
   "execution_count": null,
   "id": "7cf19de9",
   "metadata": {},
   "outputs": [],
   "source": [
    "from functools import reduce\n",
    "\n",
    "exclude = [\"nasdaq.com\", \"benzinga\", \"lenta.ru\"]\n",
    "condition = reduce(\n",
    "    lambda acc, s: acc | pl.col(\"Url\").str.contains(s, literal=True),\n",
    "    exclude[1:],  # start from second\n",
    "    pl.col(\"Url\").str.contains(exclude[0], literal=True)  # initial\n",
    ")\n",
    "\n",
    "sample = (\n",
    "    lf\n",
    "    .filter(~condition)\n",
    "    .limit(100)\n",
    "    .collect()\n",
    ")\n",
    "sample"
   ]
  },
  {
   "cell_type": "code",
   "execution_count": null,
   "id": "ecf68442",
   "metadata": {},
   "outputs": [],
   "source": [
    "domains = (\n",
    "    lf\n",
    "    .select(\n",
    "        pl.col(\"Url\")\n",
    "        .str.extract(r\"https?://(?:www\\.)?([^/]+)\", 1)  # grab domain\n",
    "        .alias(\"domain\")\n",
    "    )\n",
    "    .unique()\n",
    "    .collect()\n",
    ")\n",
    "\n",
    "print(domains)"
   ]
  },
  {
   "cell_type": "code",
   "execution_count": null,
   "id": "fe8d5d55",
   "metadata": {},
   "outputs": [],
   "source": [
    "for d in domains[\"domain\"]:\n",
    "    print(d)"
   ]
  },
  {
   "cell_type": "code",
   "execution_count": null,
   "id": "8120bd95",
   "metadata": {},
   "outputs": [],
   "source": [
    "lf = lf.with_columns(\n",
    "    pl.col(\"Date\")\n",
    "    .str.replace(\" UTC\", \"\")  # remove \" UTC\"\n",
    "    .str.strptime(pl.Datetime, \"%Y-%m-%d %H:%M:%S\")\n",
    "    .alias(\"parsed_date\")\n",
    ")\n",
    "\n",
    "filtered_lf = lf.filter(\n",
    "    pl.col(\"parsed_date\") >= pl.datetime(2000, 1, 1, 0, 0, 0)\n",
    ")\n",
    "\n",
    "sorted_lf = (\n",
    "    filtered_lf\n",
    "    .sort(\"parsed_date\")  # ascending = oldest first\n",
    "    .limit(10)\n",
    "    .collect()\n",
    ")\n",
    "\n",
    "print(sorted_lf)"
   ]
  }
 ],
 "metadata": {
  "kernelspec": {
   "display_name": ".venv",
   "language": "python",
   "name": "python3"
  },
  "language_info": {
   "codemirror_mode": {
    "name": "ipython",
    "version": 3
   },
   "file_extension": ".py",
   "mimetype": "text/x-python",
   "name": "python",
   "nbconvert_exporter": "python",
   "pygments_lexer": "ipython3",
   "version": "3.12.10"
  }
 },
 "nbformat": 4,
 "nbformat_minor": 5
}
