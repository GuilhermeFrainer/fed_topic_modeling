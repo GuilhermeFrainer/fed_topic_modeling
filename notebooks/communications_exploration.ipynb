{
 "cells": [
  {
   "cell_type": "code",
   "execution_count": null,
   "id": "41af0951",
   "metadata": {},
   "outputs": [],
   "source": [
    "import polars as pl\n",
    "import nltk\n",
    "from nltk.tokenize import word_tokenize, sent_tokenize\n",
    "\n",
    "nltk.download(\"punkt\")"
   ]
  },
  {
   "cell_type": "code",
   "execution_count": null,
   "id": "8e9a82a8",
   "metadata": {},
   "outputs": [],
   "source": [
    "df = pl.read_csv(\"../data/processed/communications.csv\")\n",
    "df"
   ]
  },
  {
   "cell_type": "code",
   "execution_count": null,
   "id": "fda2d035",
   "metadata": {},
   "outputs": [],
   "source": [
    "def count_tokens(s: str) -> int:\n",
    "    words = word_tokenize(s)\n",
    "    return len(words)\n",
    "\n",
    "def count_sentences(s: str) -> int:\n",
    "    sentences = sent_tokenize(s)\n",
    "    return len(sentences)"
   ]
  },
  {
   "cell_type": "code",
   "execution_count": null,
   "id": "16541a0c",
   "metadata": {},
   "outputs": [],
   "source": [
    "df = df.with_columns(\n",
    "    pl.col(\"Text\")\n",
    "    .map_elements(count_tokens, return_dtype=pl.Int64)\n",
    "    .alias(\"n_tokens\")\n",
    ")"
   ]
  },
  {
   "cell_type": "code",
   "execution_count": null,
   "id": "e101857d",
   "metadata": {},
   "outputs": [],
   "source": [
    "df = df.with_columns(\n",
    "    pl.col(\"Text\")\n",
    "    .map_elements(count_sentences, return_dtype=pl.Int64)\n",
    "    .alias(\"n_sentences\")\n",
    ")"
   ]
  },
  {
   "cell_type": "code",
   "execution_count": null,
   "id": "4c1faffb",
   "metadata": {},
   "outputs": [],
   "source": [
    "print(\"Average tokens:\", df[\"n_tokens\"].mean())\n",
    "print(\"Average sentences:\", df[\"n_sentences\"].mean())"
   ]
  },
  {
   "cell_type": "code",
   "execution_count": null,
   "id": "854a8888",
   "metadata": {},
   "outputs": [],
   "source": [
    "print(\"Total tokens:\", df[\"n_tokens\"].sum())\n",
    "print(\"Total sentences:\", df[\"n_sentences\"].sum())"
   ]
  },
  {
   "cell_type": "markdown",
   "id": "9d44175e",
   "metadata": {},
   "source": [
    "# Publishers"
   ]
  },
  {
   "cell_type": "code",
   "execution_count": null,
   "id": "b6a989e2",
   "metadata": {},
   "outputs": [],
   "source": [
    "import tldextract\n",
    "\n",
    "lf = pl.scan_parquet(\"../data/filtered/04_no_null_articles.parquet\")\n",
    "df = lf.select(\"url\").collect()\n",
    "df"
   ]
  },
  {
   "cell_type": "code",
   "execution_count": null,
   "id": "2d5f328a",
   "metadata": {},
   "outputs": [],
   "source": [
    "def extract_domain(url: str) -> str | None:\n",
    "    if not url:\n",
    "        return None\n",
    "    ext = tldextract.extract(url)\n",
    "    if ext.domain and ext.suffix:\n",
    "        return f\"{ext.domain}.{ext.suffix}\"\n",
    "    else:\n",
    "        return None"
   ]
  },
  {
   "cell_type": "code",
   "execution_count": null,
   "id": "975f5852",
   "metadata": {},
   "outputs": [],
   "source": [
    "df = df.with_columns(\n",
    "    pl.col(\"url\").map_elements(extract_domain, return_dtype=pl.String).alias(\"domain\")\n",
    ")\n",
    "df"
   ]
  },
  {
   "cell_type": "code",
   "execution_count": null,
   "id": "541f6b6f",
   "metadata": {},
   "outputs": [],
   "source": [
    "domain_counts = (\n",
    "    df\n",
    "    .group_by(\"domain\")\n",
    "    .agg(pl.col(\"url\").count().alias(\"n_articles\"))\n",
    "    .sort(\"n_articles\", descending=True)\n",
    ")\n",
    "domain_counts"
   ]
  },
  {
   "cell_type": "code",
   "execution_count": null,
   "id": "a74ee15e",
   "metadata": {},
   "outputs": [],
   "source": [
    "lf = pl.scan_parquet(\"../data/filtered/04_no_null_articles.parquet\")\n",
    "lf = lf.filter(pl.col(\"url\").is_null())\n",
    "df = lf.collect()"
   ]
  },
  {
   "cell_type": "code",
   "execution_count": null,
   "id": "788f8322",
   "metadata": {},
   "outputs": [],
   "source": [
    "df = df.with_columns(\n",
    "    pl.col(\"article\").map_elements(extract_domain, return_dtype=pl.String).alias(\"domain\")\n",
    ")\n",
    "df.select(\"domain\").unique()"
   ]
  }
 ],
 "metadata": {
  "kernelspec": {
   "display_name": ".venv",
   "language": "python",
   "name": "python3"
  },
  "language_info": {
   "codemirror_mode": {
    "name": "ipython",
    "version": 3
   },
   "file_extension": ".py",
   "mimetype": "text/x-python",
   "name": "python",
   "nbconvert_exporter": "python",
   "pygments_lexer": "ipython3",
   "version": "3.12.10"
  }
 },
 "nbformat": 4,
 "nbformat_minor": 5
}
