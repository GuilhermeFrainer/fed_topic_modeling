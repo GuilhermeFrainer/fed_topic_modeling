{
 "cells": [
  {
   "cell_type": "code",
   "execution_count": 1,
   "id": "0395d7b1",
   "metadata": {},
   "outputs": [],
   "source": [
    "from sklearn.datasets import fetch_20newsgroups"
   ]
  },
  {
   "cell_type": "code",
   "execution_count": 5,
   "id": "307216a6",
   "metadata": {},
   "outputs": [],
   "source": [
    "data = fetch_20newsgroups(subset=\"all\", remove=(\"headers\", \"footers\", \"quotes\"), categories=[\"sci.space\", \"rec.sport.baseball\"])"
   ]
  },
  {
   "cell_type": "code",
   "execution_count": 7,
   "id": "95392fc1",
   "metadata": {},
   "outputs": [
    {
     "data": {
      "text/plain": [
       "[\"\\nDo you really have *that* much information on him?  Really?\\n\\n\\nI don't know.  You tell me.  What percentage of players reach or \\nexceed their MLE's *in their rookie season*?  We're talking about\\n1993, you know.\\n\\n\\nIf that were your purpose, maybe.  Offerman spent 1992 getting \\nacclimated, if you will.  The Dodgers as a team paid a big price\\nthat season.  Perhaps they will reap the benefits down the road.\\nDo you really think they would have done what they did if they\\nwere competing for a pennant?\\n\\n\\nFor a stat-head, I'm amazed that you put any credence in spring\\ntraining.  Did you notice who he got those 10 (!) hits off of, or\\nare you going to tell me that it doesn't make a difference?\\n\\n\\nWait a minute.  I missed something here.  First, forget Keith\\nMitchell.  Are you saying that a kid who moves from AA to AAA\\nand then does not improve would have been better off making a\\ndirect leap to the majors?  If a player does well at AA and then\\ndoes not improve at AAA, isn't that a sign that maybe he doesn't\\nbelong in the bigs?\\n\\nNow, Keith Mitchell.  As I recall (no stat books handy - surprise!)\\nhe jumped from AA to Atlanta in 1991.  He did so well that he was\\nreturned to the minors, where he didn't do very well at all.  Now\\nhis career is in jeopardy.  So how does he fit in with your \\npoint.  Good MLE's in AA.  Moved him right to the big club.  Now\\nhe's one step away from being traded or moved out of baseball.\\nDuh.\\n\\n\\n\\nWell, I've cast my lot.  Certainly you may understand better how \\ngood Lopez is.  And I may overvalue experience.  But neither one\\nof us runs a baseball team.\\n\\n\\n\\n--\\tThe Beastmaster\\n\\n\",\n",
       " \"\\n               ^^^^^^\\n\\n\\tSure they might. If an error is recorded on, for example, a\\nground ball, ie the batter would otherwise be out, it is officially a\\nhitless at bat. If it's some other type of error (Greenwell lets a\\nsingle go by), it doesn't effect the OBP. But, most errors are\\ncounted.\",\n",
       " '------------------------- Original Article -------------------------\\nNewsgroups: rec.sport.baseball\\nPath: butch!netcomsv!netcom.com!csus.edu!wupost!uwm.edu!zaphod.mps.ohio-state.ed\\nFrom: scunning@louven.berkeley.edu (Sean Cunningham)\\nSubject: Candlestick\\nMessage-ID: <1993Apr21.041620.27894@pasteur.Berkeley.EDU>\\nSender: nntp@pasteur.Berkeley.EDU (NNTP Poster)\\nNntp-Posting-Host: louven.berkeley.edu\\nOrganization: University of California, Berkeley\\nDate: Wed, 21 Apr 1993 04:16:20 GMT\\nLines: 24\\n\\nHey folks,\\n\\nSaw the Giants play ball at the \\'Stick Saturday, April 17.  It was the game\\nwhere Pendelton broke up the scoreless tie in the ninth with a two-out,\\ntwo-run homer to right to win it.  (It wasn\\'t the game where the fans\\nthrew the give-away \"fotoballs\" onto the field in response to the homer --\\ntoo bad, huh?)\\n\\nWell, the \\'Stick is still cold.  The Saturday game ended at 5:45pm, and it\\nwas cold then.  I can\\'t imagine night games in April at the \\'Stick.  The\\nwind kicked up a little, too, and I got this idea.\\n\\nAt most games, there\\'s a pile of hot dog wrappers and cups and trash on\\nthe field a lot of the time.  I propose a Kid\\'s Clean-up Corps composed\\nmainly of 10-12 year old kids who would love nothing better than to run\\nout on the field in the fifth inning (when the guy in the Toro smooths\\nthe infield) and grab the trash.\\n\\nIt might not be glamorous, but at that age I probably would have given\\nanything to be on the field with the ballplayers.  Everybody wins here!\\n\\nWhaddaya think?',\n",
       " '\\nNot really, though I wouldn\\'t personally say \"the most deserving\\ncandidate wins\".  Rarely does a player win ROY when called up in mid\\nseason, and there have been several duds in recent years.  But this is\\nmore a factor of mediot biases than anything else.  (I wonder.  If\\nAmaral hits like he is capable of, will he receive ROTY votes?  He\\'s\\nonly 31, he could have a long career ahead of him!  :-)\\n\\n\\nI think they are a second-division team.  They should finish ahead of\\nthe Royals, Mariners, and *possibly* Athletics.  But I don\\'t think\\nthey\\'ll be above .500.  (I think the East is stronger this year.)\\n\\nLast year their pitching was bad and their offense was horrible.  This\\nyear their offense is better, but their pitching is still pretty bad.\\nEven if Finley returns to form, he won\\'t replace what they lost in\\nAbbott.  Sanderson?  Farrell?  I don\\'t believe it.\\n\\nAnd while their BA may be good, and they have decent speed, their\\noffense lacks punch.  They don\\'t have any bona fide power hitters.\\n(Salmon, Snow, Davis, and Curtis?  None with more than 20 HR\\npotential.)\\n\\nCheers,\\n-Valentine',\n",
       " '\\nCan anybody name a player who was \\'rushed\\' to the majors (let\\'s, for\\nargument\\'s sake, define \"rushed\" as brought up to the majors for more than\\na cup of coffee prior at age 22 or younger, and performing below\\nexpectations), whose career was damaged by this rushing?  I\\'m serious; I\\ntend to agree with David that bringing the player up sooner is better, but\\nI\\'d like to look at players for whom this theory didn\\'t work, if there are\\nany.  I\\'d prefer players within the last 10 years or so, because then I can\\nlook up their minor league stats.  (It\\'s important to distinguish between\\nplayers who legitimately had careers below what their minor league numbers\\nwould have projected, as opposed to players who were hyped and failed, but\\nactually had careers not out of line with their minor league numbers).  \\n\\nLet\\'s kick it off with an example of a player who was \"rushed\", although\\nthere doesn\\'t seem to have been any damage to his career.  Jay Bell was\\ngiven 135 PAs in the major leagues at age 21, and performed well below what\\nyou would expect from his AAA numbers the same season.  He got 236 PAs the\\nnext year at age 22, and still underperformed.  However, the next year, at\\nage 24, his performance improved, and he won the everyday shortstop job,\\nand has been there ever since.  It\\'s really hard for me to see where he\\nwould have been better off staying in the minor league (where he was\\nperformed quite well in AAA) during this time, rather than being \"rushed\";\\nCleveland might have been better off, I suppose, because they might have\\nbeen less likely to give up on him.\\n\\nYes, if you bring a player up early, he\\'s likely going to struggle.  But\\ndoes that delay the time at which he stops struggling, and starts\\nperforming up to expectations?',\n",
       " '\\n\\nThis is ok in my opinion as long as the stuff *returns to earth*.\\n\\n\\nIf this turns out to be true, it\\'s time to get seriously active in\\nterrorism. This is unbelievable! Who do those people think they are,\\nselling every bit that promises to make money? I guess we really\\ndeserve being wiped out by uv radiation, folks. \"Stupidity wins\". I\\nguess that\\'s true, and if only by pure numbers.\\n\\n\\tAnother depressed planetary citizen,\\n\\thoover\\n\\n\\n',\n",
       " \"\\nThat's rich... Ozzie Smith a defensive liability...\",\n",
       " \"\\nActually I favor government funded research. It *is* a pump prime\\nfor a lot of basic technologies. I also understand the short term\\nvalue of high tech welfare programs. But they can't substitute for\\nlong range wealth generation via commercial enterprise. That's what's\\nneeded to maintain a healthy economy *anywhere*, on Earth or Luna.\\nI don't see that long term potential on Luna due to a bunch of\\nfactors I outline in another post.\\n\\nGary\",\n",
       " '\\n\\nI know it\\'s very trendy nowadays to dump on Morris, but let\\'s give credit\\nwhere credit is due.\\n\\nIt is doubtful that the blue jays would have won the AL east without Morris.\\nLast year, when the team went 13-15 for the month of August, and all the \\nother starters were being shelled, and Milwaukee was making a charge,\\nMorris went 5-1 with a pretty good era (I can\\'t remember exactly).\\nAlso, let\\'s not underestimate the importance his 240+ innings to save \\nthe bullpen every fifth day.  If he didn\\'t help us win the AL east, forget\\nabout the pennent and the world series.\\n\\nHis run support was high (5.98 runs) but so was Stottlemyer\\'s (5.90 runs)\\nand he won only 12 games.  I do remember Morris winning an inordinate number of\\n6-5 and 8-6 ballgames, but this is to his credit.  He pitched only as good\\nas he needed to be.  When he was up 6-1 in a ballgame, he just put it in cruise\\ncontrol and threw the ball up there and let the batters \"get themseleves out\"\\n(I hate this expression!).  An inexperienced pitcher would wear himself out \\ntrying to make perfect pitches to keep his era down.  But Morris, being a \\nveteran pitcher, knows that winning is the only thing that really matters in\\nbaseball.  By saving himself, he was able to reach back for that little extra\\n(I hate this too!) when the game was on the line.\\n\\nYes Morris is crapping out big time this year, but let\\'s not change history\\nto suit the present.  \\n\\nBTW, I think he should be put in the bullpen; it would be embarrassing a \\nveteran pitcher which Cito would never do, but his era is 17+, how much more\\ncan he be embarrassed?\\n\\n\\nditto!\\n',\n",
       " \"\\nThat's fine idea, but it only works if the lighting/power company even bothers to supply good light fixtures.  For instance, a power company in Virginia \\nrecently asked a state commission for permission to sell more lights of various\\ntype.  Yet, all of the different fixture that they sold and wanted to sell\\nwere bad designs - one that wasted the light.  Thus, you couldn't even buy\\na good light from them.  In most places, to get a good light, you have to\\neither order it special at high cost or call a store in Arizona.  At some\\npoint, society starts to make rules.  Cars have to pass safety tests.  \\nCompanies have to meet pollution standards, etc..  There are two ways to achieve this:  educate the public so that they demand good lighting or force code\\ndown the lighting companies backs.  History seems to suggest that the latter\\nis more likely to work.\\n\\nAgreed, so I won't respond again.  It's important for all you spacers out \\nthere to realize that some people will object to various wild ideas that \\nhave been presented.  Just like Congress, it would be best to consult\\nthe astronomers/lovers of the night sky before you try some PR stunt\\nto boost public knowledge about space.\"]"
      ]
     },
     "execution_count": 7,
     "metadata": {},
     "output_type": "execute_result"
    }
   ],
   "source": [
    "data[\"data\"][:10]"
   ]
  },
  {
   "cell_type": "code",
   "execution_count": 8,
   "id": "65e795a3",
   "metadata": {},
   "outputs": [],
   "source": [
    "import re\n",
    "import nltk\n",
    "from nltk.corpus import stopwords\n",
    "\n",
    "def preprocess(text: str, stop_words: set) -> str:\n",
    "    \"\"\"\n",
    "    Performs basic pre-processing.\n",
    "    Lowercases text, removes non-words and stopwords.\n",
    "\n",
    "    Parameters\n",
    "    ----------\n",
    "    text : str\n",
    "        String to be preprocessed. Expected to be raw text from `communications.csv`.\n",
    "    stop_words : set\n",
    "        Set of English stopwords from nltk.\n",
    "\n",
    "    Returns\n",
    "    -------\n",
    "    str\n",
    "        Preprocessed string.\n",
    "    \"\"\"\n",
    "    text = re.sub(r'[^a-zA-Z_]', ' ', text) # removes non-words\n",
    "    words = text.lower().split()\n",
    "    filtered_words = [w for w in words if w not in stop_words]\n",
    "    return \" \".join(filtered_words)\n",
    "\n",
    "\n",
    "def stem(text: str, stemmer) -> str:\n",
    "    \"\"\"\n",
    "    Stems the string.\n",
    "\n",
    "    Parameters\n",
    "    ----------\n",
    "    text : str\n",
    "        String to be stemmed. Expected to be preprocessed text from `communications_preprocessed.csv`.\n",
    "\n",
    "    Returns\n",
    "    -------\n",
    "    str\n",
    "        String containing stemmed words.\n",
    "    \"\"\"\n",
    "    tokens = nltk.word_tokenize(text)\n",
    "    return \" \".join([stemmer.stem(t) for t in tokens])"
   ]
  },
  {
   "cell_type": "code",
   "execution_count": null,
   "id": "5f26d774",
   "metadata": {},
   "outputs": [],
   "source": [
    "stop_words = set(stopwords.words(\"english\"))"
   ]
  }
 ],
 "metadata": {
  "kernelspec": {
   "display_name": "venv",
   "language": "python",
   "name": "python3"
  },
  "language_info": {
   "codemirror_mode": {
    "name": "ipython",
    "version": 3
   },
   "file_extension": ".py",
   "mimetype": "text/x-python",
   "name": "python",
   "nbconvert_exporter": "python",
   "pygments_lexer": "ipython3",
   "version": "3.12.10"
  }
 },
 "nbformat": 4,
 "nbformat_minor": 5
}
