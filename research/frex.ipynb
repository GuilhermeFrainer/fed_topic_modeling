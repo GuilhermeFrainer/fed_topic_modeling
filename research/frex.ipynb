{
 "cells": [
  {
   "cell_type": "code",
   "execution_count": null,
   "id": "faedd5e8",
   "metadata": {},
   "outputs": [],
   "source": [
    "from dotenv import dotenv_values\n",
    "import polars as pl\n",
    "from gensim.models.ldamulticore import LdaMulticore\n",
    "from gensim.corpora.dictionary import Dictionary\n",
    "\n",
    "\n",
    "WORKERS = 4\n",
    "NUM_TOPICS = 5\n",
    "CONFIG = dotenv_values(\"../.env\")\n",
    "FILE = f\"../{CONFIG[\"DATA_DIR\"]}/communications_preprocessed.csv\""
   ]
  },
  {
   "cell_type": "code",
   "execution_count": null,
   "id": "a9eb4f97",
   "metadata": {},
   "outputs": [],
   "source": [
    "df = pl.read_csv(FILE)\n",
    "\n",
    "texts = [s.split() for s in df[\"stemmed_text\"]]\n",
    "gensim_dict = Dictionary(documents=texts)\n",
    "corpus = [gensim_dict.doc2bow(t) for t in texts]"
   ]
  },
  {
   "cell_type": "code",
   "execution_count": null,
   "id": "a1a2ce4c",
   "metadata": {},
   "outputs": [],
   "source": [
    "lda = LdaMulticore(corpus, num_topics=NUM_TOPICS, workers=WORKERS, id2word=gensim_dict)"
   ]
  },
  {
   "cell_type": "code",
   "execution_count": null,
   "id": "f20c2e8c",
   "metadata": {},
   "outputs": [],
   "source": [
    "import gensim.models.basemodel\n",
    "import numpy as np\n",
    "\n",
    "\n",
    "def exclusivity(model: gensim.models.basemodel.BaseTopicModel, top_words=10, exclusivity_weight=0.7) -> float:\n",
    "    # Small error to avoid division by zero\n",
    "    e = 1e-10\n",
    "    \n",
    "    word_probs: np.ndarray = model.get_topics() # The probability of word j being in topic i\n",
    "    # Normalize across columns\n",
    "    # Document this part a bit better. Why am I doing this?\n",
    "    col_sums = word_probs.sum(axis=0)\n",
    "    exclusivity_matrix = word_probs / col_sums # col_sums[np.newaxis, :] might be more general\n",
    "\n",
    "    # Now this part is complicated\n",
    "    # We have to create the Empirical Cumumlative Distribution Function (ECDF) for x\n",
    "    # In the R code, they do this through\n",
    "    # `ex <- apply(mat, 2, rank) / nrow(mat)`\n",
    "    # where `mat` is our `exclusivity_matrix`.\n",
    "    #\n",
    "    # The rank function seems to do something similar to the `np.argsort` function.\n",
    "    # For example, the following code\n",
    "    #\n",
    "    # ```r\n",
    "    # x <- c(20, 30, 10, 4, 65)\n",
    "    # rank(x)\n",
    "    # ```\n",
    "    # returns\n",
    "    # `[1] 3 4 2 1 5`\n",
    "    #\n",
    "    # So now `ranked_x[i]` gives us the position that the element `x[i]` should have to sort the array.\n",
    "    # I.e., \"the i-th element would be in the ranked_x[i]-th position in a sorted vector\".\n",
    "    #\n",
    "    # Conversely, the following Python code\n",
    "    # ```python\n",
    "    # x = np.array([20, 30, 10, 4, 65])\n",
    "    # np.argsort(x) + 1 # Adding one to match the R output, which is 1-indexed\n",
    "    # ```\n",
    "    # returns\n",
    "    # `[4 3 1 2 5]`\n",
    "    #\n",
    "    # Which is not the same thing. In this case, `ranked_x[i]` gives us the index of the element\n",
    "    # that would have to occupy `i` in a sorted array. I.e., \"if I want to create a sorted array,\n",
    "    # I have to go back to `x`, pick its i-th element, and put it in this position\".\n",
    "    #\n",
    "    # Running `np.argsort` once more seems to fix this. I'm not sure why. See:\n",
    "    # ```python\n",
    "    # x = np.array([20, 30, 10, 4, 65])\n",
    "    # sorted_x = np.argsort(x)\n",
    "    # np.argsort(sorted_x) + 1 # Adding one to match the R output, which is 1-indexed\n",
    "    # ```\n",
    "    # This outputs:\n",
    "    # `[3 4 2 1 5]`\n",
    "    # which is equal to the R output.\n",
    "    vocab_size = word_probs.shape[1]\n",
    "    num_topics = word_probs.shape[0]\n",
    "\n",
    "    ex = np.argsort(np.argsort(exclusivity_matrix, axis=0), axis=0) / vocab_size\n",
    "    fr = np.argsort(np.argsort(word_probs, axis=0), axis=0) / vocab_size\n",
    "\n",
    "    frex = 1.0 / (exclusivity_weight / (ex + e) + (1 - exclusivity_weight) / (fr + e))\n",
    "    return frex\n",
    "exclusivity(lda)"
   ]
  },
  {
   "cell_type": "code",
   "execution_count": null,
   "id": "c76263a5",
   "metadata": {},
   "outputs": [],
   "source": [
    "x = np.array([20, 30, 10, 4, 65])\n",
    "sorted_x = np.argsort(x)\n",
    "print(\"1st sort: \", sorted_x + 1)\n",
    "doubly_sorted_x = np.argsort(sorted_x)\n",
    "print(\"2nd sort: \", doubly_sorted_x + 1)"
   ]
  }
 ],
 "metadata": {
  "kernelspec": {
   "display_name": "Python 3",
   "language": "python",
   "name": "python3"
  },
  "language_info": {
   "codemirror_mode": {
    "name": "ipython",
    "version": 3
   },
   "file_extension": ".py",
   "mimetype": "text/x-python",
   "name": "python",
   "nbconvert_exporter": "python",
   "pygments_lexer": "ipython3",
   "version": "3.12.10"
  }
 },
 "nbformat": 4,
 "nbformat_minor": 5
}
